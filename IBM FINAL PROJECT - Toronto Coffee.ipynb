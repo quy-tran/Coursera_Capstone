{
 "cells": [
  {
   "cell_type": "markdown",
   "metadata": {},
   "source": [
    "# Intro\n",
    "\n",
    " 1. **Problem & background:** Someone is looking to open a coffee shop in Toronto and needs a recomendation on where they can open, \n",
    "    based on competition, location to foot traffic,and  population.\n",
    "    \n",
    " 2. **Data & usage:**  We will use a number of different data sources to explore neighborhoods and postal codes.\n",
    " \n",
    " a) 2016 population census Canada for population: https://www12.statcan.gc.ca/census-recensement/2016/dp-pd/hlt-fst/pd-pl/Tables/File.cfm?T=1201&SR=1&RPP=9999&PR=0&CMA=0&CSD=0&S=22&O=A&Lang=Eng&OFT=CSV\n",
    "     -- as this is a good indicator of local foot traffic\n",
    "  \n",
    "  b) postal codes and their neighborhoods: https://en.wikipedia.org/wiki/List_of_postal_codes_of_Canada:_M  \n",
    "      -- as people may be more familiar with Nieghborhoods then with postal codes\n",
    "      \n",
    "  c) foursqure data API (foursquare developer credentials required) \n",
    "  -- We will be pulling in latitudes and longitudes of all venues within 500 metres ( as this is an indication of foot traffic)\n",
    "  -- We will also pull in categories of these venues and find out how many of these venues are coffee shops and cafes to understand the competition in the area. \n",
    "  \n",
    " 3. **Assumptions:**  \n",
    "  \n",
    "  a) Venues that are not coffee shops (e.g. parks, businesses, restaurants), create good foot traffic for coffee shops  \n",
    "  b) Coffee shops within the same Postcode are bad for traffic as it is competition\n",
    "  c) A % of the Population of that Postcode will be considered foot traffic for that coffee shop\n",
    " \n",
    "  4. **Audience:**  \n",
    "  An entrepreneur looking to open a Coffee shop\n"
   ]
  },
  {
   "cell_type": "markdown",
   "metadata": {},
   "source": [
    "# Methodology\n",
    " 1. We collected Data of Toronto Neighborhoods by postal code, and population by postal code. \n",
    " 2. We then enriched the data with all venues within 500 metre radius of that postal code.\n",
    " 3. We also enriched our data by categorizing all Coffee shopes within that zip code.\n",
    " 4. We attributed an estimated foot traffic to our coffee shope by: \n",
    "    a) total population of Toronto/Total venue/ Total coffeeshops of the postal code in Toronto *1% (this is an estimate of how much foot traffic we would get as a result of nearby venues(e.g. parks, schools, restaurants)\n",
    "    b) Total population of the postal code/ Total cofeeshops of the postal code *1%\n",
    " 5. We used a cluster analysis to group each postal code by lowest to highest total foot traffic\n",
    "\n",
    "   "
   ]
  },
  {
   "cell_type": "markdown",
   "metadata": {},
   "source": [
    "## Collecting Neighborhood Data for Toronto\n",
    "scrape wikipedia for all of Toronto's postal codes and join population data from census to postalcode"
   ]
  },
  {
   "cell_type": "code",
   "execution_count": 1,
   "metadata": {},
   "outputs": [],
   "source": [
    "# let's download required libraries for scraping and data processings\n",
    "\n",
    "#convert data to dataframe and processing\n",
    "import pandas as pd\n",
    "import numpy as np\n",
    "\n",
    "#web requests and scraping with BeautifulSoup\n",
    "import requests\n",
    "import urllib.request\n",
    "from bs4 import BeautifulSoup # to parse the website files\n",
    "headers = {'User-Agent': 'Mozilla/5.0 (Macintosh; Intel Mac OS X 10_10_1) AppleWebKit/537.36 (KHTML, like Gecko) Chrome/39.0.2171.95 Safari/537.36'}\n",
    " \n"
   ]
  },
  {
   "cell_type": "code",
   "execution_count": 2,
   "metadata": {},
   "outputs": [],
   "source": [
    "#request data from url\n",
    "url = 'https://en.wikipedia.org/wiki/List_of_postal_codes_of_Canada:_M'\n",
    "request = requests.get(url)\n",
    "\n",
    "soup = BeautifulSoup(request.text, 'lxml')\n",
    "# print(soup.prettify()) to find table tags location"
   ]
  },
  {
   "cell_type": "code",
   "execution_count": 3,
   "metadata": {},
   "outputs": [],
   "source": [
    "#searching through prettify, or inspecting the website, we know the table we want is in class':'wikitable sortable'\n",
    "table = soup.find('table',{'class':'wikitable sortable'}) # find table \n",
    "ths=table.find_all('th') # Search through the tables for the with the headings we want.\n",
    "\n"
   ]
  },
  {
   "cell_type": "code",
   "execution_count": 4,
   "metadata": {},
   "outputs": [
    {
     "name": "stdout",
     "output_type": "stream",
     "text": [
      "['Postal Code', 'Borough', 'Neighborhood']\n"
     ]
    }
   ],
   "source": [
    "# Saving the heading we want, requires us to search through the tables for the headings and save as column_name\n",
    "column_name=[]\n",
    "for th in ths:\n",
    "    column_name.append(th.text.strip())\n",
    "print(column_name)\n"
   ]
  },
  {
   "cell_type": "code",
   "execution_count": 5,
   "metadata": {},
   "outputs": [],
   "source": [
    "# Search through the tables for the information in the cells we want and save as list\n",
    "output_rows = []\n",
    "for table_row in table.findAll('tr'):\n",
    "    columns = table_row.findAll('td')\n",
    "    output_row = []\n",
    "    for column in columns:\n",
    "        output_row.append(column.text.strip())\n",
    "    output_rows.append(output_row)\n",
    "table=output_rows[1:]"
   ]
  },
  {
   "cell_type": "code",
   "execution_count": 6,
   "metadata": {},
   "outputs": [],
   "source": [
    "# convert table to DF\n",
    "df_postcode=pd.DataFrame(table, columns =column_name)"
   ]
  },
  {
   "cell_type": "code",
   "execution_count": 7,
   "metadata": {},
   "outputs": [
    {
     "data": {
      "text/html": [
       "<div>\n",
       "<style scoped>\n",
       "    .dataframe tbody tr th:only-of-type {\n",
       "        vertical-align: middle;\n",
       "    }\n",
       "\n",
       "    .dataframe tbody tr th {\n",
       "        vertical-align: top;\n",
       "    }\n",
       "\n",
       "    .dataframe thead th {\n",
       "        text-align: right;\n",
       "    }\n",
       "</style>\n",
       "<table border=\"1\" class=\"dataframe\">\n",
       "  <thead>\n",
       "    <tr style=\"text-align: right;\">\n",
       "      <th></th>\n",
       "      <th>Postal Code</th>\n",
       "      <th>Borough</th>\n",
       "      <th>Neighborhood</th>\n",
       "    </tr>\n",
       "  </thead>\n",
       "  <tbody>\n",
       "    <tr>\n",
       "      <th>count</th>\n",
       "      <td>180</td>\n",
       "      <td>180</td>\n",
       "      <td>180</td>\n",
       "    </tr>\n",
       "    <tr>\n",
       "      <th>unique</th>\n",
       "      <td>180</td>\n",
       "      <td>11</td>\n",
       "      <td>100</td>\n",
       "    </tr>\n",
       "    <tr>\n",
       "      <th>top</th>\n",
       "      <td>M4X</td>\n",
       "      <td>Not assigned</td>\n",
       "      <td>Not assigned</td>\n",
       "    </tr>\n",
       "    <tr>\n",
       "      <th>freq</th>\n",
       "      <td>1</td>\n",
       "      <td>77</td>\n",
       "      <td>77</td>\n",
       "    </tr>\n",
       "  </tbody>\n",
       "</table>\n",
       "</div>"
      ],
      "text/plain": [
       "       Postal Code       Borough  Neighborhood\n",
       "count          180           180           180\n",
       "unique         180            11           100\n",
       "top            M4X  Not assigned  Not assigned\n",
       "freq             1            77            77"
      ]
     },
     "execution_count": 7,
     "metadata": {},
     "output_type": "execute_result"
    }
   ],
   "source": [
    "#looking at describe, we can see that there are a lot of postal codes not assigned to Boroughs or Neighborhoods. \n",
    "df_postcode.describe()"
   ]
  },
  {
   "cell_type": "code",
   "execution_count": 10,
   "metadata": {},
   "outputs": [
    {
     "data": {
      "text/html": [
       "<div>\n",
       "<style scoped>\n",
       "    .dataframe tbody tr th:only-of-type {\n",
       "        vertical-align: middle;\n",
       "    }\n",
       "\n",
       "    .dataframe tbody tr th {\n",
       "        vertical-align: top;\n",
       "    }\n",
       "\n",
       "    .dataframe thead th {\n",
       "        text-align: right;\n",
       "    }\n",
       "</style>\n",
       "<table border=\"1\" class=\"dataframe\">\n",
       "  <thead>\n",
       "    <tr style=\"text-align: right;\">\n",
       "      <th></th>\n",
       "      <th>Postcode</th>\n",
       "      <th>Borough</th>\n",
       "      <th>Neighborhood</th>\n",
       "    </tr>\n",
       "  </thead>\n",
       "  <tbody>\n",
       "    <tr>\n",
       "      <th>0</th>\n",
       "      <td>M1A</td>\n",
       "      <td>Not assigned</td>\n",
       "      <td>Not assigned</td>\n",
       "    </tr>\n",
       "    <tr>\n",
       "      <th>1</th>\n",
       "      <td>M2A</td>\n",
       "      <td>Not assigned</td>\n",
       "      <td>Not assigned</td>\n",
       "    </tr>\n",
       "    <tr>\n",
       "      <th>2</th>\n",
       "      <td>M3A</td>\n",
       "      <td>North York</td>\n",
       "      <td>Parkwoods</td>\n",
       "    </tr>\n",
       "    <tr>\n",
       "      <th>3</th>\n",
       "      <td>M4A</td>\n",
       "      <td>North York</td>\n",
       "      <td>Victoria Village</td>\n",
       "    </tr>\n",
       "    <tr>\n",
       "      <th>4</th>\n",
       "      <td>M5A</td>\n",
       "      <td>Downtown Toronto</td>\n",
       "      <td>Regent Park, Harbourfront</td>\n",
       "    </tr>\n",
       "  </tbody>\n",
       "</table>\n",
       "</div>"
      ],
      "text/plain": [
       "  Postcode           Borough               Neighborhood\n",
       "0      M1A      Not assigned               Not assigned\n",
       "1      M2A      Not assigned               Not assigned\n",
       "2      M3A        North York                  Parkwoods\n",
       "3      M4A        North York           Victoria Village\n",
       "4      M5A  Downtown Toronto  Regent Park, Harbourfront"
      ]
     },
     "execution_count": 10,
     "metadata": {},
     "output_type": "execute_result"
    }
   ],
   "source": [
    "#let's change the column name\n",
    "df_postcode.columns=['Postcode','Borough','Neighborhood']\n",
    "#let's preview the data\n",
    "df_postcode.head()\n"
   ]
  },
  {
   "cell_type": "markdown",
   "metadata": {},
   "source": [
    "# Joining population data from census 2016\n",
    "Let's download the CSV and save is as population.csv"
   ]
  },
  {
   "cell_type": "markdown",
   "metadata": {},
   "source": [
    "We downloaded the CSV from 'https://www12.statcan.gc.ca/census-recensement/2016/dp-pd/hlt-fst/pd-pl/Tables/File.cfm?T=1201&SR=1&RPP=9999&PR=0&CMA=0&CSD=0&S=22&O=A&Lang=Eng&OFT=CSV'\n",
    "and deleted the header and footers we didnt need"
   ]
  },
  {
   "cell_type": "code",
   "execution_count": 11,
   "metadata": {},
   "outputs": [
    {
     "data": {
      "text/html": [
       "<div>\n",
       "<style scoped>\n",
       "    .dataframe tbody tr th:only-of-type {\n",
       "        vertical-align: middle;\n",
       "    }\n",
       "\n",
       "    .dataframe tbody tr th {\n",
       "        vertical-align: top;\n",
       "    }\n",
       "\n",
       "    .dataframe thead th {\n",
       "        text-align: right;\n",
       "    }\n",
       "</style>\n",
       "<table border=\"1\" class=\"dataframe\">\n",
       "  <thead>\n",
       "    <tr style=\"text-align: right;\">\n",
       "      <th></th>\n",
       "      <th>Geographic code</th>\n",
       "      <th>Geographic name</th>\n",
       "      <th>Province or territory</th>\n",
       "      <th>Incompletely enumerated Indian reserves and Indian settlements, 2016</th>\n",
       "      <th>Population, 2016</th>\n",
       "      <th>Total private dwellings, 2016</th>\n",
       "      <th>Private dwellings occupied by usual residents, 2016</th>\n",
       "    </tr>\n",
       "  </thead>\n",
       "  <tbody>\n",
       "    <tr>\n",
       "      <th>0</th>\n",
       "      <td>A0A</td>\n",
       "      <td>A0A</td>\n",
       "      <td>Newfoundland and Labrador</td>\n",
       "      <td>NaN</td>\n",
       "      <td>46587</td>\n",
       "      <td>26155</td>\n",
       "      <td>19426</td>\n",
       "    </tr>\n",
       "    <tr>\n",
       "      <th>1</th>\n",
       "      <td>A0B</td>\n",
       "      <td>A0B</td>\n",
       "      <td>Newfoundland and Labrador</td>\n",
       "      <td>NaN</td>\n",
       "      <td>19792</td>\n",
       "      <td>13658</td>\n",
       "      <td>8792</td>\n",
       "    </tr>\n",
       "    <tr>\n",
       "      <th>2</th>\n",
       "      <td>A0C</td>\n",
       "      <td>A0C</td>\n",
       "      <td>Newfoundland and Labrador</td>\n",
       "      <td>NaN</td>\n",
       "      <td>12587</td>\n",
       "      <td>8010</td>\n",
       "      <td>5606</td>\n",
       "    </tr>\n",
       "    <tr>\n",
       "      <th>3</th>\n",
       "      <td>A0E</td>\n",
       "      <td>A0E</td>\n",
       "      <td>Newfoundland and Labrador</td>\n",
       "      <td>NaN</td>\n",
       "      <td>22294</td>\n",
       "      <td>12293</td>\n",
       "      <td>9603</td>\n",
       "    </tr>\n",
       "    <tr>\n",
       "      <th>4</th>\n",
       "      <td>A0G</td>\n",
       "      <td>A0G</td>\n",
       "      <td>Newfoundland and Labrador</td>\n",
       "      <td>NaN</td>\n",
       "      <td>35266</td>\n",
       "      <td>21750</td>\n",
       "      <td>15200</td>\n",
       "    </tr>\n",
       "  </tbody>\n",
       "</table>\n",
       "</div>"
      ],
      "text/plain": [
       "  Geographic code Geographic name      Province or territory  \\\n",
       "0             A0A             A0A  Newfoundland and Labrador   \n",
       "1             A0B             A0B  Newfoundland and Labrador   \n",
       "2             A0C             A0C  Newfoundland and Labrador   \n",
       "3             A0E             A0E  Newfoundland and Labrador   \n",
       "4             A0G             A0G  Newfoundland and Labrador   \n",
       "\n",
       "   Incompletely enumerated Indian reserves and Indian settlements, 2016  \\\n",
       "0                                                NaN                      \n",
       "1                                                NaN                      \n",
       "2                                                NaN                      \n",
       "3                                                NaN                      \n",
       "4                                                NaN                      \n",
       "\n",
       "   Population, 2016  Total private dwellings, 2016  \\\n",
       "0             46587                          26155   \n",
       "1             19792                          13658   \n",
       "2             12587                           8010   \n",
       "3             22294                          12293   \n",
       "4             35266                          21750   \n",
       "\n",
       "   Private dwellings occupied by usual residents, 2016  \n",
       "0                                              19426    \n",
       "1                                               8792    \n",
       "2                                               5606    \n",
       "3                                               9603    \n",
       "4                                              15200    "
      ]
     },
     "execution_count": 11,
     "metadata": {},
     "output_type": "execute_result"
    }
   ],
   "source": [
    "#lets read this info to a datafram\n",
    "population_df = pd.read_csv('population.csv')\n",
    "population_df.head()"
   ]
  },
  {
   "cell_type": "code",
   "execution_count": 12,
   "metadata": {},
   "outputs": [
    {
     "data": {
      "text/plain": [
       "(102, 3)"
      ]
     },
     "execution_count": 12,
     "metadata": {},
     "output_type": "execute_result"
    }
   ],
   "source": [
    "#lets drop the columns we don't need\n",
    "population_df=population_df[['Geographic code','Province or territory','Population, 2016']]\n",
    "#lets rename our remaining columns\n",
    "population_df.columns=['Postcode','State','pop']\n",
    "#lets also only look at Geographic codes starting with 'M' \n",
    "population_df=population_df[population_df.Postcode.str[0] == 'M']\n",
    "population_df.shape"
   ]
  },
  {
   "cell_type": "code",
   "execution_count": 13,
   "metadata": {},
   "outputs": [],
   "source": [
    "#Let's merge our 2 data frames together under population_df\n",
    "population_df=pd.merge(df_postcode,population_df,on='Postcode',how='left')"
   ]
  },
  {
   "cell_type": "code",
   "execution_count": 14,
   "metadata": {},
   "outputs": [
    {
     "name": "stdout",
     "output_type": "stream",
     "text": [
      "postal codes witout population matched: 78\n"
     ]
    }
   ],
   "source": [
    "#let's investigate how many postal codes do not have a match to df_postcode\n",
    "print('postal codes witout population matched:',population_df.State.isna().sum())"
   ]
  },
  {
   "cell_type": "code",
   "execution_count": 15,
   "metadata": {},
   "outputs": [],
   "source": [
    "#Let's drop all rows without assigned Boroughs\n",
    "population_df = population_df[population_df.Borough != 'Not assigned']"
   ]
  },
  {
   "cell_type": "code",
   "execution_count": 16,
   "metadata": {},
   "outputs": [
    {
     "name": "stdout",
     "output_type": "stream",
     "text": [
      "postal codes witout population matched: 1\n"
     ]
    }
   ],
   "source": [
    "#Re-running postal code matches\n",
    "print('postal codes witout population matched:',population_df.State.isna().sum())"
   ]
  },
  {
   "cell_type": "code",
   "execution_count": 17,
   "metadata": {},
   "outputs": [
    {
     "data": {
      "text/html": [
       "<div>\n",
       "<style scoped>\n",
       "    .dataframe tbody tr th:only-of-type {\n",
       "        vertical-align: middle;\n",
       "    }\n",
       "\n",
       "    .dataframe tbody tr th {\n",
       "        vertical-align: top;\n",
       "    }\n",
       "\n",
       "    .dataframe thead th {\n",
       "        text-align: right;\n",
       "    }\n",
       "</style>\n",
       "<table border=\"1\" class=\"dataframe\">\n",
       "  <thead>\n",
       "    <tr style=\"text-align: right;\">\n",
       "      <th></th>\n",
       "      <th>Postcode</th>\n",
       "      <th>Borough</th>\n",
       "      <th>Neighborhood</th>\n",
       "      <th>State</th>\n",
       "      <th>pop</th>\n",
       "    </tr>\n",
       "  </thead>\n",
       "  <tbody>\n",
       "    <tr>\n",
       "      <th>114</th>\n",
       "      <td>M7R</td>\n",
       "      <td>Mississauga</td>\n",
       "      <td>Canada Post Gateway Processing Centre</td>\n",
       "      <td>NaN</td>\n",
       "      <td>NaN</td>\n",
       "    </tr>\n",
       "  </tbody>\n",
       "</table>\n",
       "</div>"
      ],
      "text/plain": [
       "    Postcode      Borough                           Neighborhood State  pop\n",
       "114      M7R  Mississauga  Canada Post Gateway Processing Centre   NaN  NaN"
      ]
     },
     "execution_count": 17,
     "metadata": {},
     "output_type": "execute_result"
    }
   ],
   "source": [
    "#let's investivate the missing value\n",
    "df_na = population_df[population_df.isna().any(axis=1)]\n",
    "df_na.head()"
   ]
  },
  {
   "cell_type": "code",
   "execution_count": 18,
   "metadata": {},
   "outputs": [],
   "source": [
    "#let's drop that row where State is nan as well\n",
    "population_df.dropna(subset = [\"State\"], inplace=True)\n"
   ]
  },
  {
   "cell_type": "code",
   "execution_count": 19,
   "metadata": {},
   "outputs": [],
   "source": [
    "#let's drop that row where population is less than 1000\n",
    "population_df=population_df[population_df['pop']>1000]"
   ]
  },
  {
   "cell_type": "code",
   "execution_count": 20,
   "metadata": {},
   "outputs": [],
   "source": [
    "#let's sort by population\n",
    "population_df.sort_values(by=['pop'],ascending =True, inplace=True)"
   ]
  },
  {
   "cell_type": "code",
   "execution_count": 21,
   "metadata": {},
   "outputs": [],
   "source": [
    "# Note: lat/long is not in the format Folium uses..use a different mapping library\n",
    "#import pgeocode to locate lat long !pip install pgeocode if module is not found\n",
    "import pgeocode\n",
    "nomi = pgeocode.Nominatim('ca') \n",
    "\n",
    "#reset the index and drop the old one\n",
    "population_df.reset_index(inplace=True, drop=True) \n",
    "\n",
    "#loop over postal codes and append lat, long on \n",
    "\n",
    "postal_code = population_df['Postcode']\n",
    "lat=[]\n",
    "long=[]\n",
    "count=0\n",
    "\n",
    "for latlong in postal_code:    \n",
    "    location = nomi.query_postal_code(postal_code[count])\n",
    "    lat.append(location.latitude)\n",
    "    long.append(location.longitude)\n",
    "    count+=1"
   ]
  },
  {
   "cell_type": "code",
   "execution_count": 135,
   "metadata": {},
   "outputs": [
    {
     "data": {
      "text/html": [
       "<div>\n",
       "<style scoped>\n",
       "    .dataframe tbody tr th:only-of-type {\n",
       "        vertical-align: middle;\n",
       "    }\n",
       "\n",
       "    .dataframe tbody tr th {\n",
       "        vertical-align: top;\n",
       "    }\n",
       "\n",
       "    .dataframe thead th {\n",
       "        text-align: right;\n",
       "    }\n",
       "</style>\n",
       "<table border=\"1\" class=\"dataframe\">\n",
       "  <thead>\n",
       "    <tr style=\"text-align: right;\">\n",
       "      <th></th>\n",
       "      <th>Postcode</th>\n",
       "      <th>Total_Venues</th>\n",
       "      <th>Borough</th>\n",
       "      <th>Neighborhood</th>\n",
       "      <th>State</th>\n",
       "      <th>pop</th>\n",
       "      <th>Latitude</th>\n",
       "      <th>Longitude</th>\n",
       "    </tr>\n",
       "  </thead>\n",
       "  <tbody>\n",
       "    <tr>\n",
       "      <th>0</th>\n",
       "      <td>M1B</td>\n",
       "      <td>122</td>\n",
       "      <td>Scarborough</td>\n",
       "      <td>Malvern, Rouge</td>\n",
       "      <td>Ontario</td>\n",
       "      <td>66108.0</td>\n",
       "      <td>43.6496</td>\n",
       "      <td>-79.3833</td>\n",
       "    </tr>\n",
       "    <tr>\n",
       "      <th>1</th>\n",
       "      <td>M1C</td>\n",
       "      <td>118</td>\n",
       "      <td>Scarborough</td>\n",
       "      <td>Rouge Hill, Port Union, Highland Creek</td>\n",
       "      <td>Ontario</td>\n",
       "      <td>35626.0</td>\n",
       "      <td>43.6513</td>\n",
       "      <td>-79.3756</td>\n",
       "    </tr>\n",
       "    <tr>\n",
       "      <th>2</th>\n",
       "      <td>M1E</td>\n",
       "      <td>122</td>\n",
       "      <td>Scarborough</td>\n",
       "      <td>Guildwood, Morningside, West Hill</td>\n",
       "      <td>Ontario</td>\n",
       "      <td>46943.0</td>\n",
       "      <td>43.7390</td>\n",
       "      <td>-79.4692</td>\n",
       "    </tr>\n",
       "    <tr>\n",
       "      <th>3</th>\n",
       "      <td>M1G</td>\n",
       "      <td>122</td>\n",
       "      <td>Scarborough</td>\n",
       "      <td>Woburn</td>\n",
       "      <td>Ontario</td>\n",
       "      <td>29690.0</td>\n",
       "      <td>43.7500</td>\n",
       "      <td>-79.3978</td>\n",
       "    </tr>\n",
       "    <tr>\n",
       "      <th>4</th>\n",
       "      <td>M1H</td>\n",
       "      <td>88</td>\n",
       "      <td>Scarborough</td>\n",
       "      <td>Cedarbrae</td>\n",
       "      <td>Ontario</td>\n",
       "      <td>24383.0</td>\n",
       "      <td>43.6564</td>\n",
       "      <td>-79.3860</td>\n",
       "    </tr>\n",
       "  </tbody>\n",
       "</table>\n",
       "</div>"
      ],
      "text/plain": [
       "  Postcode  Total_Venues      Borough                            Neighborhood  \\\n",
       "0      M1B           122  Scarborough                          Malvern, Rouge   \n",
       "1      M1C           118  Scarborough  Rouge Hill, Port Union, Highland Creek   \n",
       "2      M1E           122  Scarborough       Guildwood, Morningside, West Hill   \n",
       "3      M1G           122  Scarborough                                  Woburn   \n",
       "4      M1H            88  Scarborough                               Cedarbrae   \n",
       "\n",
       "     State      pop  Latitude  Longitude  \n",
       "0  Ontario  66108.0   43.6496   -79.3833  \n",
       "1  Ontario  35626.0   43.6513   -79.3756  \n",
       "2  Ontario  46943.0   43.7390   -79.4692  \n",
       "3  Ontario  29690.0   43.7500   -79.3978  \n",
       "4  Ontario  24383.0   43.6564   -79.3860  "
      ]
     },
     "execution_count": 135,
     "metadata": {},
     "output_type": "execute_result"
    }
   ],
   "source": [
    "#convert lat long lists to dataframe and add to population_df\n",
    "population_df['Latitude']=pd.DataFrame(lat) \n",
    "population_df['Longitude']=pd.DataFrame(long)\n",
    "population_df.head()"
   ]
  },
  {
   "cell_type": "markdown",
   "metadata": {},
   "source": [
    "# Enriching Data with Foursquare to find out businesses that exist in that area"
   ]
  },
  {
   "cell_type": "code",
   "execution_count": 23,
   "metadata": {},
   "outputs": [],
   "source": [
    "import foursquare_secrets1"
   ]
  },
  {
   "cell_type": "code",
   "execution_count": 24,
   "metadata": {},
   "outputs": [],
   "source": [
    "#set foursquare dev credentials \n",
    "CLIENT_ID = foursquare_secrets1.secrets['CLIENT_ID'] # your Foursquare ID\n",
    "CLIENT_SECRET = foursquare_secrets1.secrets['CLIENT_SECRET'] # your Foursquare Secret\n",
    "VERSION = '20180605' # Foursquare API version"
   ]
  },
  {
   "cell_type": "markdown",
   "metadata": {},
   "source": [
    "## testing out foursquare"
   ]
  },
  {
   "cell_type": "code",
   "execution_count": 30,
   "metadata": {},
   "outputs": [
    {
     "name": "stdout",
     "output_type": "stream",
     "text": [
      "Latitude and longitude values of Richmond, Adelaide, King are 43.6496, -79.3833.\n"
     ]
    }
   ],
   "source": [
    "neighborhood_latitude = population_df.loc[0,'Latitude'] # neighborhood latitude value\n",
    "neighborhood_longitude = population_df.loc[0,'Longitude'] # neighborhood longitude value\n",
    "\n",
    "neighborhood_name = population_df.loc[0,'Neighborhood'] # neighborhood name\n",
    "\n",
    "print('Latitude and longitude values of {} are {}, {}.'.format(neighborhood_name, \n",
    "                                                               neighborhood_latitude, \n",
    "                                                               neighborhood_longitude))"
   ]
  },
  {
   "cell_type": "code",
   "execution_count": 155,
   "metadata": {},
   "outputs": [
    {
     "data": {
      "text/plain": [
       "'https://api.foursquare.com/v2/venues/search?client_id=NSNY0NEA1GEXCEOUCGBGGSEZ5RZX1NNNQEX02S0DUARW0QG4&client_secret=Z2M5ODRGWB5GZT4SCO0WIK1AFTCOQ2HADKXFT5DKR5QMTPO5&ll=43.6496,-79.3833&v=20180605&query=&radius=500&limit=200'"
      ]
     },
     "execution_count": 155,
     "metadata": {},
     "output_type": "execute_result"
    }
   ],
   "source": [
    "#radius is measured in meters, limit is the limit number of search results\n",
    "radius = 500\n",
    "LIMIT=200\n",
    "search_query = ''\n",
    "url = 'https://api.foursquare.com/v2/venues/search?client_id={}&client_secret={}&ll={},{}&v={}&query={}&radius={}&limit={}'.format(CLIENT_ID, CLIENT_SECRET, neighborhood_latitude, neighborhood_longitude, VERSION, search_query, radius, LIMIT)\n",
    "url"
   ]
  },
  {
   "cell_type": "code",
   "execution_count": 156,
   "metadata": {},
   "outputs": [],
   "source": [
    "results = requests.get(url).json()\n"
   ]
  },
  {
   "cell_type": "code",
   "execution_count": 157,
   "metadata": {},
   "outputs": [
    {
     "data": {
      "text/plain": [
       "125"
      ]
     },
     "execution_count": 157,
     "metadata": {},
     "output_type": "execute_result"
    }
   ],
   "source": [
    "#data that is passed back by foursquare\n",
    "len(results['response']['venues'])"
   ]
  },
  {
   "cell_type": "code",
   "execution_count": 469,
   "metadata": {},
   "outputs": [
    {
     "data": {
      "text/plain": [
       "{'id': '4f7387f4e4b053123ff596aa',\n",
       " 'name': 'Baker & Company',\n",
       " 'location': {'address': '130 Adelaide Street West',\n",
       "  'crossStreet': 'York Street',\n",
       "  'lat': 43.648165652052725,\n",
       "  'lng': -79.38215476105805,\n",
       "  'labeledLatLngs': [{'label': 'display',\n",
       "    'lat': 43.648165652052725,\n",
       "    'lng': -79.38215476105805}],\n",
       "  'distance': 184,\n",
       "  'postalCode': 'M5H 3P5',\n",
       "  'cc': 'CA',\n",
       "  'city': 'Toronto',\n",
       "  'state': 'ON',\n",
       "  'country': 'Canada',\n",
       "  'formattedAddress': ['130 Adelaide Street West (York Street)',\n",
       "   'Toronto ON M5H 3P5',\n",
       "   'Canada']},\n",
       " 'categories': [{'id': '4bf58dd8d48988d124941735',\n",
       "   'name': 'Office',\n",
       "   'pluralName': 'Offices',\n",
       "   'shortName': 'Office',\n",
       "   'icon': {'prefix': 'https://ss3.4sqi.net/img/categories_v2/building/default_',\n",
       "    'suffix': '.png'},\n",
       "   'primary': True}],\n",
       " 'referralId': 'v-1593698662',\n",
       " 'hasPerk': False}"
      ]
     },
     "execution_count": 469,
     "metadata": {},
     "output_type": "execute_result"
    }
   ],
   "source": [
    "results['response']['venues'][0]"
   ]
  },
  {
   "cell_type": "code",
   "execution_count": 81,
   "metadata": {},
   "outputs": [],
   "source": [
    "# function that extracts the category of the venue\n",
    "def get_category_type(row):\n",
    "    try:\n",
    "        categories_list = row['categories']\n",
    "    except:\n",
    "        categories_list = row['venue.categories']\n",
    "        \n",
    "    if len(categories_list) == 0:\n",
    "        return None\n",
    "    else:\n",
    "        return categories_list[0]['name']"
   ]
  },
  {
   "cell_type": "code",
   "execution_count": 103,
   "metadata": {},
   "outputs": [
    {
     "data": {
      "text/html": [
       "<div>\n",
       "<style scoped>\n",
       "    .dataframe tbody tr th:only-of-type {\n",
       "        vertical-align: middle;\n",
       "    }\n",
       "\n",
       "    .dataframe tbody tr th {\n",
       "        vertical-align: top;\n",
       "    }\n",
       "\n",
       "    .dataframe thead th {\n",
       "        text-align: right;\n",
       "    }\n",
       "</style>\n",
       "<table border=\"1\" class=\"dataframe\">\n",
       "  <thead>\n",
       "    <tr style=\"text-align: right;\">\n",
       "      <th></th>\n",
       "      <th>name</th>\n",
       "      <th>categories</th>\n",
       "      <th>lat</th>\n",
       "      <th>lng</th>\n",
       "    </tr>\n",
       "  </thead>\n",
       "  <tbody>\n",
       "    <tr>\n",
       "      <th>0</th>\n",
       "      <td>Baker &amp; Company</td>\n",
       "      <td>Office</td>\n",
       "      <td>43.648166</td>\n",
       "      <td>-79.382155</td>\n",
       "    </tr>\n",
       "    <tr>\n",
       "      <th>1</th>\n",
       "      <td>JJ Bean</td>\n",
       "      <td>Coffee Shop</td>\n",
       "      <td>43.649595</td>\n",
       "      <td>-79.383383</td>\n",
       "    </tr>\n",
       "    <tr>\n",
       "      <th>2</th>\n",
       "      <td>EY Tower</td>\n",
       "      <td>Office</td>\n",
       "      <td>43.649766</td>\n",
       "      <td>-79.382473</td>\n",
       "    </tr>\n",
       "    <tr>\n",
       "      <th>3</th>\n",
       "      <td>Richmond Adelaide Centre</td>\n",
       "      <td>Office</td>\n",
       "      <td>43.649443</td>\n",
       "      <td>-79.383355</td>\n",
       "    </tr>\n",
       "    <tr>\n",
       "      <th>4</th>\n",
       "      <td>Starbucks</td>\n",
       "      <td>Coffee Shop</td>\n",
       "      <td>43.649928</td>\n",
       "      <td>-79.383247</td>\n",
       "    </tr>\n",
       "  </tbody>\n",
       "</table>\n",
       "</div>"
      ],
      "text/plain": [
       "                       name   categories        lat        lng\n",
       "0           Baker & Company       Office  43.648166 -79.382155\n",
       "1                   JJ Bean  Coffee Shop  43.649595 -79.383383\n",
       "2                  EY Tower       Office  43.649766 -79.382473\n",
       "3  Richmond Adelaide Centre       Office  43.649443 -79.383355\n",
       "4                 Starbucks  Coffee Shop  43.649928 -79.383247"
      ]
     },
     "execution_count": 103,
     "metadata": {},
     "output_type": "execute_result"
    }
   ],
   "source": [
    "import json # library to handle JSON files\n",
    "from pandas import json_normalize # tranform JSON file into a pandas dataframe\n",
    "\n",
    "venues = results['response']['venues']\n",
    "    \n",
    "nearby_venues = json_normalize(venues) # flatten JSON\n",
    "\n",
    "# filter columns\n",
    "filtered_columns = ['name', 'categories', 'location.lat', 'location.lng']\n",
    "nearby_venues =nearby_venues.loc[:, filtered_columns]\n",
    " \n",
    "# filter the category for each row\n",
    "nearby_venues['venue.categories'] = nearby_venues.apply(get_category_type, axis=1)\n",
    "\n",
    "#drop initial categories\n",
    "nearby_venues=nearby_venues[['name','venue.categories','location.lat','location.lng']]\n",
    "\n",
    "\n",
    "# clean columns by removing column name before period\n",
    "nearby_venues.columns = [col.split(\".\")[-1] for col in nearby_venues.columns]\n",
    "nearby_venues.head()"
   ]
  },
  {
   "cell_type": "code",
   "execution_count": 102,
   "metadata": {},
   "outputs": [
    {
     "name": "stdout",
     "output_type": "stream",
     "text": [
      "125 venues were returned by Foursquare.\n"
     ]
    }
   ],
   "source": [
    "print('{} venues were returned by Foursquare.'.format(nearby_venues.shape[0]))"
   ]
  },
  {
   "cell_type": "code",
   "execution_count": 127,
   "metadata": {},
   "outputs": [
    {
     "data": {
      "text/plain": [
       "Office                           31\n",
       "Coffee Shop                       7\n",
       "Bank                              4\n",
       "Mobile Phone Shop                 3\n",
       "Building                          3\n",
       "Asian Restaurant                  3\n",
       "Restaurant                        3\n",
       "Optical Shop                      2\n",
       "Dentist's Office                  2\n",
       "Parking                           2\n",
       "Doctor's Office                   2\n",
       "Mediterranean Restaurant          2\n",
       "Pizza Place                       2\n",
       "Salon / Barbershop                2\n",
       "Convenience Store                 2\n",
       "Miscellaneous Shop                2\n",
       "Travel Agency                     2\n",
       "Indian Restaurant                 2\n",
       "Art Gallery                       2\n",
       "Financial or Legal Service        2\n",
       "Meeting Room                      2\n",
       "Arts & Crafts Store               1\n",
       "Steakhouse                        1\n",
       "Recruiting Agency                 1\n",
       "Medical Center                    1\n",
       "Clothing Store                    1\n",
       "Newsstand                         1\n",
       "Fast Food Restaurant              1\n",
       "Flower Shop                       1\n",
       "Frame Store                       1\n",
       "Thai Restaurant                   1\n",
       "Pharmacy                          1\n",
       "Shoe Repair                       1\n",
       "Tech Startup                      1\n",
       "Bakery                            1\n",
       "Vegetarian / Vegan Restaurant     1\n",
       "Salad Place                       1\n",
       "Laundry Service                   1\n",
       "Food Truck                        1\n",
       "Spa                               1\n",
       "Men's Store                       1\n",
       "Cosmetics Shop                    1\n",
       "University                        1\n",
       "Bookstore                         1\n",
       "Jewelry Store                     1\n",
       "Burger Joint                      1\n",
       "Business Service                  1\n",
       "Sandwich Place                    1\n",
       "Public Bathroom                   1\n",
       "General Travel                    1\n",
       "Lawyer                            1\n",
       "Breakfast Spot                    1\n",
       "Dessert Shop                      1\n",
       "Food Court                        1\n",
       "Juice Bar                         1\n",
       "Gift Shop                         1\n",
       "Business Center                   1\n",
       "Japanese Restaurant               1\n",
       "Gay Bar                           1\n",
       "Buffet                            1\n",
       "Name: categories, dtype: int64"
      ]
     },
     "execution_count": 127,
     "metadata": {},
     "output_type": "execute_result"
    }
   ],
   "source": [
    "nearby_venues.categories.value_counts()"
   ]
  },
  {
   "cell_type": "markdown",
   "metadata": {},
   "source": [
    "# Digging into Zip codes"
   ]
  },
  {
   "cell_type": "code",
   "execution_count": 311,
   "metadata": {},
   "outputs": [],
   "source": [
    "def getNearbyVenues(names, latitudes, longitudes, radius=500):\n",
    "    \n",
    "    venues_list=[]\n",
    "  \n",
    "    for name, lat, lng in zip(names, latitudes, longitudes):\n",
    "        print(name)\n",
    "            \n",
    "        # create the API request URL\n",
    "        url = 'https://api.foursquare.com/v2/venues/search?&client_id={}&client_secret={}&v={}&ll={},{}&radius={}&limit={}'.format(\n",
    "            CLIENT_ID, \n",
    "            CLIENT_SECRET, \n",
    "            VERSION, \n",
    "            lat, \n",
    "            lng, \n",
    "            radius, \n",
    "            LIMIT)\n",
    "            \n",
    "        # make the GET request\n",
    "        results = requests.get(url).json()['response']['venues']\n",
    "        \n",
    "  \n",
    "        # return only relevant information for each nearby venue\n",
    "        venues_list.append([(\n",
    "            name, \n",
    "            lat, \n",
    "            lng, \n",
    "            v['name'], \n",
    "            v['location']['lat'], \n",
    "            v['location']['lng'],\n",
    "            v['categories']) for v in results])\n",
    "        \n",
    "\n",
    "    nearby_venues = pd.DataFrame([item for venue_list in venues_list for item in venue_list])\n",
    "    nearby_venues.columns = ['Postcode', \n",
    "                  'Postcode Latitude', \n",
    "                  'Postcode Longitude', \n",
    "                  'Venue', \n",
    "                  'Venue Latitude', \n",
    "                  'Venue Longitude', \n",
    "                  'Venue Category']\n",
    "    \n",
    "    return(nearby_venues)"
   ]
  },
  {
   "cell_type": "code",
   "execution_count": 312,
   "metadata": {},
   "outputs": [
    {
     "name": "stdout",
     "output_type": "stream",
     "text": [
      "M1B\n",
      "M1C\n",
      "M1E\n",
      "M1G\n",
      "M1H\n",
      "M1J\n",
      "M1K\n",
      "M1L\n",
      "M1M\n",
      "M1N\n",
      "M1P\n",
      "M1R\n",
      "M1S\n",
      "M1T\n",
      "M1V\n",
      "M1W\n",
      "M1X\n",
      "M2H\n",
      "M2J\n",
      "M2K\n",
      "M2L\n",
      "M2M\n",
      "M2N\n",
      "M2P\n",
      "M2R\n",
      "M3A\n",
      "M3B\n",
      "M3C\n",
      "M3H\n",
      "M3J\n",
      "M3K\n",
      "M3L\n",
      "M3M\n",
      "M3N\n",
      "M4A\n",
      "M4B\n",
      "M4C\n",
      "M4E\n",
      "M4G\n",
      "M4H\n",
      "M4J\n",
      "M4K\n",
      "M4L\n",
      "M4M\n",
      "M4N\n",
      "M4P\n",
      "M4R\n",
      "M4S\n",
      "M4T\n",
      "M4V\n",
      "M4W\n",
      "M4X\n",
      "M4Y\n",
      "M5A\n",
      "M5B\n",
      "M5C\n",
      "M5E\n",
      "M5G\n",
      "M5H\n",
      "M5J\n",
      "M5M\n",
      "M5N\n",
      "M5P\n",
      "M5R\n",
      "M5S\n",
      "M5T\n",
      "M5V\n",
      "M6A\n",
      "M6B\n",
      "M6C\n",
      "M6E\n",
      "M6G\n",
      "M6H\n",
      "M6J\n",
      "M6K\n",
      "M6L\n",
      "M6M\n",
      "M6N\n",
      "M6P\n",
      "M6R\n",
      "M6S\n",
      "M8V\n",
      "M8W\n",
      "M8X\n",
      "M8Y\n",
      "M8Z\n",
      "M9A\n",
      "M9B\n",
      "M9C\n",
      "M9L\n",
      "M9M\n",
      "M9N\n",
      "M9P\n",
      "M9R\n",
      "M9V\n",
      "M9W\n"
     ]
    }
   ],
   "source": [
    "Toronto_venues = getNearbyVenues(names=population_df['Postcode'],\n",
    "                                   latitudes=population_df['Latitude'],\n",
    "                                   longitudes=population_df['Longitude']\n",
    "                                  )"
   ]
  },
  {
   "cell_type": "code",
   "execution_count": 313,
   "metadata": {},
   "outputs": [
    {
     "name": "stdout",
     "output_type": "stream",
     "text": [
      "(10748, 7)\n"
     ]
    },
    {
     "data": {
      "text/plain": [
       "10748"
      ]
     },
     "execution_count": 313,
     "metadata": {},
     "output_type": "execute_result"
    }
   ],
   "source": [
    "print(Toronto_venues.shape)\n",
    "len(Toronto_venues)"
   ]
  },
  {
   "cell_type": "code",
   "execution_count": 314,
   "metadata": {},
   "outputs": [],
   "source": [
    "# clean up category for each row\n",
    "categories=[]\n",
    "x=0\n",
    "for row in range(0,len(Toronto_venues)):\n",
    "    if len(Toronto_venues['Venue Category'][x]) == 0:\n",
    "        \n",
    "        categories.append('none')\n",
    "        x+=1\n",
    "    else:\n",
    "        categories.append(Toronto_venues['Venue Category'][x][0]['name'])\n",
    "        x+=1\n",
    "     \n"
   ]
  },
  {
   "cell_type": "code",
   "execution_count": 410,
   "metadata": {},
   "outputs": [
    {
     "ename": "KeyError",
     "evalue": "\"['Venue Category'] not found in axis\"",
     "output_type": "error",
     "traceback": [
      "\u001b[1;31m---------------------------------------------------------------------------\u001b[0m",
      "\u001b[1;31mKeyError\u001b[0m                                  Traceback (most recent call last)",
      "\u001b[1;32m<ipython-input-410-5ae7da78d047>\u001b[0m in \u001b[0;36m<module>\u001b[1;34m\u001b[0m\n\u001b[0;32m      1\u001b[0m \u001b[1;31m#add categories list to Toronto_venues dataframe and drop the old categories column\u001b[0m\u001b[1;33m\u001b[0m\u001b[1;33m\u001b[0m\u001b[1;33m\u001b[0m\u001b[0m\n\u001b[0;32m      2\u001b[0m \u001b[0mToronto_venues\u001b[0m\u001b[1;33m[\u001b[0m\u001b[1;34m'categories'\u001b[0m\u001b[1;33m]\u001b[0m\u001b[1;33m=\u001b[0m\u001b[0mpd\u001b[0m\u001b[1;33m.\u001b[0m\u001b[0mDataFrame\u001b[0m\u001b[1;33m(\u001b[0m\u001b[0mcategories\u001b[0m\u001b[1;33m)\u001b[0m\u001b[1;33m\u001b[0m\u001b[1;33m\u001b[0m\u001b[0m\n\u001b[1;32m----> 3\u001b[1;33m \u001b[0mToronto_venues\u001b[0m\u001b[1;33m.\u001b[0m\u001b[0mdrop\u001b[0m\u001b[1;33m(\u001b[0m\u001b[0mcolumns\u001b[0m\u001b[1;33m=\u001b[0m\u001b[1;33m[\u001b[0m\u001b[1;34m'Venue Category'\u001b[0m\u001b[1;33m]\u001b[0m\u001b[1;33m,\u001b[0m \u001b[0minplace\u001b[0m\u001b[1;33m=\u001b[0m\u001b[1;32mTrue\u001b[0m\u001b[1;33m)\u001b[0m\u001b[1;33m\u001b[0m\u001b[1;33m\u001b[0m\u001b[0m\n\u001b[0m",
      "\u001b[1;32m~\\anaconda3\\lib\\site-packages\\pandas\\core\\frame.py\u001b[0m in \u001b[0;36mdrop\u001b[1;34m(self, labels, axis, index, columns, level, inplace, errors)\u001b[0m\n\u001b[0;32m   3995\u001b[0m             \u001b[0mlevel\u001b[0m\u001b[1;33m=\u001b[0m\u001b[0mlevel\u001b[0m\u001b[1;33m,\u001b[0m\u001b[1;33m\u001b[0m\u001b[1;33m\u001b[0m\u001b[0m\n\u001b[0;32m   3996\u001b[0m             \u001b[0minplace\u001b[0m\u001b[1;33m=\u001b[0m\u001b[0minplace\u001b[0m\u001b[1;33m,\u001b[0m\u001b[1;33m\u001b[0m\u001b[1;33m\u001b[0m\u001b[0m\n\u001b[1;32m-> 3997\u001b[1;33m             \u001b[0merrors\u001b[0m\u001b[1;33m=\u001b[0m\u001b[0merrors\u001b[0m\u001b[1;33m,\u001b[0m\u001b[1;33m\u001b[0m\u001b[1;33m\u001b[0m\u001b[0m\n\u001b[0m\u001b[0;32m   3998\u001b[0m         )\n\u001b[0;32m   3999\u001b[0m \u001b[1;33m\u001b[0m\u001b[0m\n",
      "\u001b[1;32m~\\anaconda3\\lib\\site-packages\\pandas\\core\\generic.py\u001b[0m in \u001b[0;36mdrop\u001b[1;34m(self, labels, axis, index, columns, level, inplace, errors)\u001b[0m\n\u001b[0;32m   3934\u001b[0m         \u001b[1;32mfor\u001b[0m \u001b[0maxis\u001b[0m\u001b[1;33m,\u001b[0m \u001b[0mlabels\u001b[0m \u001b[1;32min\u001b[0m \u001b[0maxes\u001b[0m\u001b[1;33m.\u001b[0m\u001b[0mitems\u001b[0m\u001b[1;33m(\u001b[0m\u001b[1;33m)\u001b[0m\u001b[1;33m:\u001b[0m\u001b[1;33m\u001b[0m\u001b[1;33m\u001b[0m\u001b[0m\n\u001b[0;32m   3935\u001b[0m             \u001b[1;32mif\u001b[0m \u001b[0mlabels\u001b[0m \u001b[1;32mis\u001b[0m \u001b[1;32mnot\u001b[0m \u001b[1;32mNone\u001b[0m\u001b[1;33m:\u001b[0m\u001b[1;33m\u001b[0m\u001b[1;33m\u001b[0m\u001b[0m\n\u001b[1;32m-> 3936\u001b[1;33m                 \u001b[0mobj\u001b[0m \u001b[1;33m=\u001b[0m \u001b[0mobj\u001b[0m\u001b[1;33m.\u001b[0m\u001b[0m_drop_axis\u001b[0m\u001b[1;33m(\u001b[0m\u001b[0mlabels\u001b[0m\u001b[1;33m,\u001b[0m \u001b[0maxis\u001b[0m\u001b[1;33m,\u001b[0m \u001b[0mlevel\u001b[0m\u001b[1;33m=\u001b[0m\u001b[0mlevel\u001b[0m\u001b[1;33m,\u001b[0m \u001b[0merrors\u001b[0m\u001b[1;33m=\u001b[0m\u001b[0merrors\u001b[0m\u001b[1;33m)\u001b[0m\u001b[1;33m\u001b[0m\u001b[1;33m\u001b[0m\u001b[0m\n\u001b[0m\u001b[0;32m   3937\u001b[0m \u001b[1;33m\u001b[0m\u001b[0m\n\u001b[0;32m   3938\u001b[0m         \u001b[1;32mif\u001b[0m \u001b[0minplace\u001b[0m\u001b[1;33m:\u001b[0m\u001b[1;33m\u001b[0m\u001b[1;33m\u001b[0m\u001b[0m\n",
      "\u001b[1;32m~\\anaconda3\\lib\\site-packages\\pandas\\core\\generic.py\u001b[0m in \u001b[0;36m_drop_axis\u001b[1;34m(self, labels, axis, level, errors)\u001b[0m\n\u001b[0;32m   3968\u001b[0m                 \u001b[0mnew_axis\u001b[0m \u001b[1;33m=\u001b[0m \u001b[0maxis\u001b[0m\u001b[1;33m.\u001b[0m\u001b[0mdrop\u001b[0m\u001b[1;33m(\u001b[0m\u001b[0mlabels\u001b[0m\u001b[1;33m,\u001b[0m \u001b[0mlevel\u001b[0m\u001b[1;33m=\u001b[0m\u001b[0mlevel\u001b[0m\u001b[1;33m,\u001b[0m \u001b[0merrors\u001b[0m\u001b[1;33m=\u001b[0m\u001b[0merrors\u001b[0m\u001b[1;33m)\u001b[0m\u001b[1;33m\u001b[0m\u001b[1;33m\u001b[0m\u001b[0m\n\u001b[0;32m   3969\u001b[0m             \u001b[1;32melse\u001b[0m\u001b[1;33m:\u001b[0m\u001b[1;33m\u001b[0m\u001b[1;33m\u001b[0m\u001b[0m\n\u001b[1;32m-> 3970\u001b[1;33m                 \u001b[0mnew_axis\u001b[0m \u001b[1;33m=\u001b[0m \u001b[0maxis\u001b[0m\u001b[1;33m.\u001b[0m\u001b[0mdrop\u001b[0m\u001b[1;33m(\u001b[0m\u001b[0mlabels\u001b[0m\u001b[1;33m,\u001b[0m \u001b[0merrors\u001b[0m\u001b[1;33m=\u001b[0m\u001b[0merrors\u001b[0m\u001b[1;33m)\u001b[0m\u001b[1;33m\u001b[0m\u001b[1;33m\u001b[0m\u001b[0m\n\u001b[0m\u001b[0;32m   3971\u001b[0m             \u001b[0mresult\u001b[0m \u001b[1;33m=\u001b[0m \u001b[0mself\u001b[0m\u001b[1;33m.\u001b[0m\u001b[0mreindex\u001b[0m\u001b[1;33m(\u001b[0m\u001b[1;33m**\u001b[0m\u001b[1;33m{\u001b[0m\u001b[0maxis_name\u001b[0m\u001b[1;33m:\u001b[0m \u001b[0mnew_axis\u001b[0m\u001b[1;33m}\u001b[0m\u001b[1;33m)\u001b[0m\u001b[1;33m\u001b[0m\u001b[1;33m\u001b[0m\u001b[0m\n\u001b[0;32m   3972\u001b[0m \u001b[1;33m\u001b[0m\u001b[0m\n",
      "\u001b[1;32m~\\anaconda3\\lib\\site-packages\\pandas\\core\\indexes\\base.py\u001b[0m in \u001b[0;36mdrop\u001b[1;34m(self, labels, errors)\u001b[0m\n\u001b[0;32m   5016\u001b[0m         \u001b[1;32mif\u001b[0m \u001b[0mmask\u001b[0m\u001b[1;33m.\u001b[0m\u001b[0many\u001b[0m\u001b[1;33m(\u001b[0m\u001b[1;33m)\u001b[0m\u001b[1;33m:\u001b[0m\u001b[1;33m\u001b[0m\u001b[1;33m\u001b[0m\u001b[0m\n\u001b[0;32m   5017\u001b[0m             \u001b[1;32mif\u001b[0m \u001b[0merrors\u001b[0m \u001b[1;33m!=\u001b[0m \u001b[1;34m\"ignore\"\u001b[0m\u001b[1;33m:\u001b[0m\u001b[1;33m\u001b[0m\u001b[1;33m\u001b[0m\u001b[0m\n\u001b[1;32m-> 5018\u001b[1;33m                 \u001b[1;32mraise\u001b[0m \u001b[0mKeyError\u001b[0m\u001b[1;33m(\u001b[0m\u001b[1;34mf\"{labels[mask]} not found in axis\"\u001b[0m\u001b[1;33m)\u001b[0m\u001b[1;33m\u001b[0m\u001b[1;33m\u001b[0m\u001b[0m\n\u001b[0m\u001b[0;32m   5019\u001b[0m             \u001b[0mindexer\u001b[0m \u001b[1;33m=\u001b[0m \u001b[0mindexer\u001b[0m\u001b[1;33m[\u001b[0m\u001b[1;33m~\u001b[0m\u001b[0mmask\u001b[0m\u001b[1;33m]\u001b[0m\u001b[1;33m\u001b[0m\u001b[1;33m\u001b[0m\u001b[0m\n\u001b[0;32m   5020\u001b[0m         \u001b[1;32mreturn\u001b[0m \u001b[0mself\u001b[0m\u001b[1;33m.\u001b[0m\u001b[0mdelete\u001b[0m\u001b[1;33m(\u001b[0m\u001b[0mindexer\u001b[0m\u001b[1;33m)\u001b[0m\u001b[1;33m\u001b[0m\u001b[1;33m\u001b[0m\u001b[0m\n",
      "\u001b[1;31mKeyError\u001b[0m: \"['Venue Category'] not found in axis\""
     ]
    }
   ],
   "source": [
    "#add categories list to Toronto_venues dataframe and drop the old categories column\n",
    "Toronto_venues['categories']=pd.DataFrame(categories)\n",
    "Toronto_venues.drop(columns=['Venue Category'], inplace=True)"
   ]
  },
  {
   "cell_type": "markdown",
   "metadata": {},
   "source": [
    "# We will calculate how many venunes are within 500 meter radius of each postalcode"
   ]
  },
  {
   "cell_type": "code",
   "execution_count": 470,
   "metadata": {},
   "outputs": [
    {
     "data": {
      "text/html": [
       "<div>\n",
       "<style scoped>\n",
       "    .dataframe tbody tr th:only-of-type {\n",
       "        vertical-align: middle;\n",
       "    }\n",
       "\n",
       "    .dataframe tbody tr th {\n",
       "        vertical-align: top;\n",
       "    }\n",
       "\n",
       "    .dataframe thead th {\n",
       "        text-align: right;\n",
       "    }\n",
       "</style>\n",
       "<table border=\"1\" class=\"dataframe\">\n",
       "  <thead>\n",
       "    <tr style=\"text-align: right;\">\n",
       "      <th></th>\n",
       "      <th>Postcode</th>\n",
       "      <th>Postcode Latitude</th>\n",
       "      <th>Postcode Longitude</th>\n",
       "      <th>Venue</th>\n",
       "      <th>Venue Latitude</th>\n",
       "      <th>Venue Longitude</th>\n",
       "      <th>categories</th>\n",
       "    </tr>\n",
       "  </thead>\n",
       "  <tbody>\n",
       "    <tr>\n",
       "      <th>0</th>\n",
       "      <td>M1B</td>\n",
       "      <td>43.6496</td>\n",
       "      <td>-79.3833</td>\n",
       "      <td>Baker &amp; Company</td>\n",
       "      <td>43.648166</td>\n",
       "      <td>-79.382155</td>\n",
       "      <td>Office</td>\n",
       "    </tr>\n",
       "    <tr>\n",
       "      <th>1</th>\n",
       "      <td>M1B</td>\n",
       "      <td>43.6496</td>\n",
       "      <td>-79.3833</td>\n",
       "      <td>JJ Bean</td>\n",
       "      <td>43.649595</td>\n",
       "      <td>-79.383383</td>\n",
       "      <td>Coffee Shop</td>\n",
       "    </tr>\n",
       "    <tr>\n",
       "      <th>2</th>\n",
       "      <td>M1B</td>\n",
       "      <td>43.6496</td>\n",
       "      <td>-79.3833</td>\n",
       "      <td>Richmond Adelaide Centre</td>\n",
       "      <td>43.649443</td>\n",
       "      <td>-79.383355</td>\n",
       "      <td>Office</td>\n",
       "    </tr>\n",
       "    <tr>\n",
       "      <th>3</th>\n",
       "      <td>M1B</td>\n",
       "      <td>43.6496</td>\n",
       "      <td>-79.3833</td>\n",
       "      <td>Starbucks</td>\n",
       "      <td>43.649928</td>\n",
       "      <td>-79.383247</td>\n",
       "      <td>Coffee Shop</td>\n",
       "    </tr>\n",
       "    <tr>\n",
       "      <th>4</th>\n",
       "      <td>M1B</td>\n",
       "      <td>43.6496</td>\n",
       "      <td>-79.3833</td>\n",
       "      <td>EY Tower</td>\n",
       "      <td>43.649766</td>\n",
       "      <td>-79.382473</td>\n",
       "      <td>Office</td>\n",
       "    </tr>\n",
       "  </tbody>\n",
       "</table>\n",
       "</div>"
      ],
      "text/plain": [
       "  Postcode  Postcode Latitude  Postcode Longitude                     Venue  \\\n",
       "0      M1B            43.6496            -79.3833           Baker & Company   \n",
       "1      M1B            43.6496            -79.3833                   JJ Bean   \n",
       "2      M1B            43.6496            -79.3833  Richmond Adelaide Centre   \n",
       "3      M1B            43.6496            -79.3833                 Starbucks   \n",
       "4      M1B            43.6496            -79.3833                  EY Tower   \n",
       "\n",
       "   Venue Latitude  Venue Longitude   categories  \n",
       "0       43.648166       -79.382155       Office  \n",
       "1       43.649595       -79.383383  Coffee Shop  \n",
       "2       43.649443       -79.383355       Office  \n",
       "3       43.649928       -79.383247  Coffee Shop  \n",
       "4       43.649766       -79.382473       Office  "
      ]
     },
     "execution_count": 470,
     "metadata": {},
     "output_type": "execute_result"
    }
   ],
   "source": [
    "Toronto_venues.head()"
   ]
  },
  {
   "cell_type": "code",
   "execution_count": 471,
   "metadata": {},
   "outputs": [
    {
     "data": {
      "text/html": [
       "<div>\n",
       "<style scoped>\n",
       "    .dataframe tbody tr th:only-of-type {\n",
       "        vertical-align: middle;\n",
       "    }\n",
       "\n",
       "    .dataframe tbody tr th {\n",
       "        vertical-align: top;\n",
       "    }\n",
       "\n",
       "    .dataframe thead th {\n",
       "        text-align: right;\n",
       "    }\n",
       "</style>\n",
       "<table border=\"1\" class=\"dataframe\">\n",
       "  <thead>\n",
       "    <tr style=\"text-align: right;\">\n",
       "      <th></th>\n",
       "      <th>Postcode</th>\n",
       "      <th>Venue_count</th>\n",
       "    </tr>\n",
       "  </thead>\n",
       "  <tbody>\n",
       "    <tr>\n",
       "      <th>0</th>\n",
       "      <td>M1B</td>\n",
       "      <td>125</td>\n",
       "    </tr>\n",
       "    <tr>\n",
       "      <th>1</th>\n",
       "      <td>M1C</td>\n",
       "      <td>122</td>\n",
       "    </tr>\n",
       "    <tr>\n",
       "      <th>2</th>\n",
       "      <td>M1E</td>\n",
       "      <td>121</td>\n",
       "    </tr>\n",
       "    <tr>\n",
       "      <th>3</th>\n",
       "      <td>M1G</td>\n",
       "      <td>46</td>\n",
       "    </tr>\n",
       "    <tr>\n",
       "      <th>4</th>\n",
       "      <td>M1H</td>\n",
       "      <td>124</td>\n",
       "    </tr>\n",
       "  </tbody>\n",
       "</table>\n",
       "</div>"
      ],
      "text/plain": [
       "  Postcode  Venue_count\n",
       "0      M1B          125\n",
       "1      M1C          122\n",
       "2      M1E          121\n",
       "3      M1G           46\n",
       "4      M1H          124"
      ]
     },
     "execution_count": 471,
     "metadata": {},
     "output_type": "execute_result"
    }
   ],
   "source": [
    "#group venues  by postcode and count, we will also drop columns we don't need and rename venue to venue_count\n",
    "venue_count=Toronto_venues.groupby('Postcode').count().reset_index()\n",
    "venue_count=venue_count[['Postcode','Venue']]\n",
    "venue_count.columns=['Postcode','Venue_count']\n",
    "venue_count.head()"
   ]
  },
  {
   "cell_type": "code",
   "execution_count": 472,
   "metadata": {},
   "outputs": [],
   "source": [
    "#Let's merge our 2 data frames together under final_df on Postcode\n",
    "final_df=pd.merge(population_df,venue_count,on='Postcode',how='left')\n"
   ]
  },
  {
   "cell_type": "code",
   "execution_count": 478,
   "metadata": {},
   "outputs": [
    {
     "data": {
      "text/html": [
       "<div>\n",
       "<style scoped>\n",
       "    .dataframe tbody tr th:only-of-type {\n",
       "        vertical-align: middle;\n",
       "    }\n",
       "\n",
       "    .dataframe tbody tr th {\n",
       "        vertical-align: top;\n",
       "    }\n",
       "\n",
       "    .dataframe thead th {\n",
       "        text-align: right;\n",
       "    }\n",
       "</style>\n",
       "<table border=\"1\" class=\"dataframe\">\n",
       "  <thead>\n",
       "    <tr style=\"text-align: right;\">\n",
       "      <th></th>\n",
       "      <th>Postcode</th>\n",
       "      <th>Borough</th>\n",
       "      <th>Neighborhood</th>\n",
       "      <th>State</th>\n",
       "      <th>pop</th>\n",
       "      <th>Latitude</th>\n",
       "      <th>Longitude</th>\n",
       "      <th>Venue_count</th>\n",
       "    </tr>\n",
       "  </thead>\n",
       "  <tbody>\n",
       "    <tr>\n",
       "      <th>0</th>\n",
       "      <td>M1B</td>\n",
       "      <td>Scarborough</td>\n",
       "      <td>Malvern, Rouge</td>\n",
       "      <td>Ontario</td>\n",
       "      <td>66108.0</td>\n",
       "      <td>43.6496</td>\n",
       "      <td>-79.3833</td>\n",
       "      <td>125</td>\n",
       "    </tr>\n",
       "    <tr>\n",
       "      <th>1</th>\n",
       "      <td>M1C</td>\n",
       "      <td>Scarborough</td>\n",
       "      <td>Rouge Hill, Port Union, Highland Creek</td>\n",
       "      <td>Ontario</td>\n",
       "      <td>35626.0</td>\n",
       "      <td>43.6513</td>\n",
       "      <td>-79.3756</td>\n",
       "      <td>122</td>\n",
       "    </tr>\n",
       "    <tr>\n",
       "      <th>2</th>\n",
       "      <td>M1E</td>\n",
       "      <td>Scarborough</td>\n",
       "      <td>Guildwood, Morningside, West Hill</td>\n",
       "      <td>Ontario</td>\n",
       "      <td>46943.0</td>\n",
       "      <td>43.7390</td>\n",
       "      <td>-79.4692</td>\n",
       "      <td>121</td>\n",
       "    </tr>\n",
       "    <tr>\n",
       "      <th>3</th>\n",
       "      <td>M1G</td>\n",
       "      <td>Scarborough</td>\n",
       "      <td>Woburn</td>\n",
       "      <td>Ontario</td>\n",
       "      <td>29690.0</td>\n",
       "      <td>43.7500</td>\n",
       "      <td>-79.3978</td>\n",
       "      <td>46</td>\n",
       "    </tr>\n",
       "    <tr>\n",
       "      <th>4</th>\n",
       "      <td>M1H</td>\n",
       "      <td>Scarborough</td>\n",
       "      <td>Cedarbrae</td>\n",
       "      <td>Ontario</td>\n",
       "      <td>24383.0</td>\n",
       "      <td>43.6564</td>\n",
       "      <td>-79.3860</td>\n",
       "      <td>124</td>\n",
       "    </tr>\n",
       "  </tbody>\n",
       "</table>\n",
       "</div>"
      ],
      "text/plain": [
       "  Postcode      Borough                            Neighborhood    State  \\\n",
       "0      M1B  Scarborough                          Malvern, Rouge  Ontario   \n",
       "1      M1C  Scarborough  Rouge Hill, Port Union, Highland Creek  Ontario   \n",
       "2      M1E  Scarborough       Guildwood, Morningside, West Hill  Ontario   \n",
       "3      M1G  Scarborough                                  Woburn  Ontario   \n",
       "4      M1H  Scarborough                               Cedarbrae  Ontario   \n",
       "\n",
       "       pop  Latitude  Longitude  Venue_count  \n",
       "0  66108.0   43.6496   -79.3833          125  \n",
       "1  35626.0   43.6513   -79.3756          122  \n",
       "2  46943.0   43.7390   -79.4692          121  \n",
       "3  29690.0   43.7500   -79.3978           46  \n",
       "4  24383.0   43.6564   -79.3860          124  "
      ]
     },
     "execution_count": 478,
     "metadata": {},
     "output_type": "execute_result"
    }
   ],
   "source": [
    "final_df.head()"
   ]
  },
  {
   "cell_type": "markdown",
   "metadata": {},
   "source": [
    "# Let's measure competition within each Postcode by counting Coffee and Cafe Venues\n"
   ]
  },
  {
   "cell_type": "code",
   "execution_count": 480,
   "metadata": {},
   "outputs": [],
   "source": [
    "#venue by neighborhood\n",
    "Competition_df= Toronto_venues[(Toronto_venues['categories']=='Coffee Shop') | (Toronto_venues['categories']=='Café')]\n",
    "\n",
    "#group all competition by postcode \n",
    "Competition_df=Competition_df.groupby('Postcode').count().reset_index()\n",
    "\n",
    "#drop columns we don't need\n",
    "Competition_df=Competition_df[['Postcode', 'Venue']]\n",
    "                             \n",
    "#rename competition column\n",
    "Competition_df.columns=['Postcode', 'Other_coffee_shops']\n"
   ]
  },
  {
   "cell_type": "code",
   "execution_count": 481,
   "metadata": {},
   "outputs": [],
   "source": [
    "#Let's merge this data  together under final_df on Postcode\n",
    "final_df=pd.merge(final_df,Competition_df,on='Postcode',how='left')\n"
   ]
  },
  {
   "cell_type": "code",
   "execution_count": 527,
   "metadata": {},
   "outputs": [],
   "source": [
    "#fill all Nan values as 0 within other_coffee_shop so we can apply subtraction\n",
    "final_df['Other_coffee_shops'] = final_df['Other_coffee_shops'].fillna(value=0)"
   ]
  },
  {
   "cell_type": "code",
   "execution_count": 528,
   "metadata": {},
   "outputs": [
    {
     "name": "stdout",
     "output_type": "stream",
     "text": [
      "Toronto has a population of : 2732094\n",
      "Toronto has 10748 venues\n",
      "Population/Venue: 254.19557126907333\n"
     ]
    }
   ],
   "source": [
    "#Let's find out what the population to venue density is for all of Toronto\n",
    "\n",
    "Toronto_pop= final_df[['pop']]\n",
    "Toronto_pop= int(Toronto_pop.sum(axis=0))\n",
    "print('Toronto has a population of :', Toronto_pop)\n",
    "\n",
    "Toronto_venues= venue_count[['Venue_count']]\n",
    "Toronto_venues= int(Toronto_venues.sum(axis=0))\n",
    "print('Toronto has {} venues'. format(Toronto_venues)) \n",
    "\n",
    "Population_per_venue= Toronto_pop/Toronto_venues\n",
    "print('Population/Venue:', Population_per_venue)"
   ]
  },
  {
   "cell_type": "code",
   "execution_count": 536,
   "metadata": {},
   "outputs": [],
   "source": [
    "#We will assume each venue brings 1% of foot traffic from the postal code population\n",
    "#For simplicity, We will also assume each non-competing venue will bring in foot traffic equivalaent to the population_per_venue\n",
    "\n",
    "foot_traffic= .01\n",
    "final_df['pop_foot_traffic']=final_df['pop']*foot_traffic/(final_df['Other_coffee_shops']+1)\n",
    "final_df['venu_foot_traffic']= Population_per_venue *(final_df['Venue_count']-final_df['Other_coffee_shops'])/(final_df['Other_coffee_shops']+1) *foot_traffic\n",
    " "
   ]
  },
  {
   "cell_type": "code",
   "execution_count": 540,
   "metadata": {},
   "outputs": [],
   "source": [
    "final_df['total_foot_traffic']=final_df['pop_foot_traffic']+final_df['venu_foot_traffic']\n",
    "final_df.sort_values(by=['total_foot_traffic'], ascending= True, inplace=True)"
   ]
  },
  {
   "cell_type": "code",
   "execution_count": 549,
   "metadata": {},
   "outputs": [
    {
     "data": {
      "text/html": [
       "<div>\n",
       "<style scoped>\n",
       "    .dataframe tbody tr th:only-of-type {\n",
       "        vertical-align: middle;\n",
       "    }\n",
       "\n",
       "    .dataframe tbody tr th {\n",
       "        vertical-align: top;\n",
       "    }\n",
       "\n",
       "    .dataframe thead th {\n",
       "        text-align: right;\n",
       "    }\n",
       "</style>\n",
       "<table border=\"1\" class=\"dataframe\">\n",
       "  <thead>\n",
       "    <tr style=\"text-align: right;\">\n",
       "      <th></th>\n",
       "      <th>Postcode</th>\n",
       "      <th>Borough</th>\n",
       "      <th>Neighborhood</th>\n",
       "      <th>State</th>\n",
       "      <th>pop</th>\n",
       "      <th>Latitude</th>\n",
       "      <th>Longitude</th>\n",
       "      <th>Venue_count</th>\n",
       "      <th>Other_coffee_shops</th>\n",
       "      <th>pop_foot_traffic</th>\n",
       "      <th>venu_foot_traffic</th>\n",
       "      <th>total_foot_traffic</th>\n",
       "    </tr>\n",
       "  </thead>\n",
       "  <tbody>\n",
       "    <tr>\n",
       "      <th>0</th>\n",
       "      <td>M5E</td>\n",
       "      <td>Downtown Toronto</td>\n",
       "      <td>Berczy Park</td>\n",
       "      <td>Ontario</td>\n",
       "      <td>9118.0</td>\n",
       "      <td>43.6683</td>\n",
       "      <td>-79.4205</td>\n",
       "      <td>106</td>\n",
       "      <td>7.0</td>\n",
       "      <td>11.397500</td>\n",
       "      <td>31.456702</td>\n",
       "      <td>42.854202</td>\n",
       "    </tr>\n",
       "    <tr>\n",
       "      <th>1</th>\n",
       "      <td>M3M</td>\n",
       "      <td>North York</td>\n",
       "      <td>Downsview</td>\n",
       "      <td>Ontario</td>\n",
       "      <td>24046.0</td>\n",
       "      <td>43.6684</td>\n",
       "      <td>-79.3689</td>\n",
       "      <td>126</td>\n",
       "      <td>11.0</td>\n",
       "      <td>20.038333</td>\n",
       "      <td>24.360409</td>\n",
       "      <td>44.398742</td>\n",
       "    </tr>\n",
       "    <tr>\n",
       "      <th>2</th>\n",
       "      <td>M5H</td>\n",
       "      <td>Downtown Toronto</td>\n",
       "      <td>Richmond, Adelaide, King</td>\n",
       "      <td>Ontario</td>\n",
       "      <td>2005.0</td>\n",
       "      <td>43.6505</td>\n",
       "      <td>-79.5517</td>\n",
       "      <td>115</td>\n",
       "      <td>4.0</td>\n",
       "      <td>4.010000</td>\n",
       "      <td>56.431417</td>\n",
       "      <td>60.441417</td>\n",
       "    </tr>\n",
       "    <tr>\n",
       "      <th>3</th>\n",
       "      <td>M8X</td>\n",
       "      <td>Etobicoke</td>\n",
       "      <td>The Kingsway, Montgomery Road, Old Mill North</td>\n",
       "      <td>Ontario</td>\n",
       "      <td>10787.0</td>\n",
       "      <td>43.6934</td>\n",
       "      <td>-79.4857</td>\n",
       "      <td>116</td>\n",
       "      <td>5.0</td>\n",
       "      <td>17.978333</td>\n",
       "      <td>47.026181</td>\n",
       "      <td>65.004514</td>\n",
       "    </tr>\n",
       "    <tr>\n",
       "      <th>4</th>\n",
       "      <td>M5M</td>\n",
       "      <td>North York</td>\n",
       "      <td>Bedford Park, Lawrence Manor East</td>\n",
       "      <td>Ontario</td>\n",
       "      <td>25975.0</td>\n",
       "      <td>43.6480</td>\n",
       "      <td>-79.4177</td>\n",
       "      <td>120</td>\n",
       "      <td>7.0</td>\n",
       "      <td>32.468750</td>\n",
       "      <td>35.905124</td>\n",
       "      <td>68.373874</td>\n",
       "    </tr>\n",
       "  </tbody>\n",
       "</table>\n",
       "</div>"
      ],
      "text/plain": [
       "  Postcode           Borough                                   Neighborhood  \\\n",
       "0      M5E  Downtown Toronto                                    Berczy Park   \n",
       "1      M3M        North York                                      Downsview   \n",
       "2      M5H  Downtown Toronto                       Richmond, Adelaide, King   \n",
       "3      M8X         Etobicoke  The Kingsway, Montgomery Road, Old Mill North   \n",
       "4      M5M        North York              Bedford Park, Lawrence Manor East   \n",
       "\n",
       "     State      pop  Latitude  Longitude  Venue_count  Other_coffee_shops  \\\n",
       "0  Ontario   9118.0   43.6683   -79.4205          106                 7.0   \n",
       "1  Ontario  24046.0   43.6684   -79.3689          126                11.0   \n",
       "2  Ontario   2005.0   43.6505   -79.5517          115                 4.0   \n",
       "3  Ontario  10787.0   43.6934   -79.4857          116                 5.0   \n",
       "4  Ontario  25975.0   43.6480   -79.4177          120                 7.0   \n",
       "\n",
       "   pop_foot_traffic  venu_foot_traffic  total_foot_traffic  \n",
       "0         11.397500          31.456702           42.854202  \n",
       "1         20.038333          24.360409           44.398742  \n",
       "2          4.010000          56.431417           60.441417  \n",
       "3         17.978333          47.026181           65.004514  \n",
       "4         32.468750          35.905124           68.373874  "
      ]
     },
     "execution_count": 549,
     "metadata": {},
     "output_type": "execute_result"
    }
   ],
   "source": [
    "final_df.reset_index(drop=True, inplace=True)\n",
    "final_df.head()"
   ]
  },
  {
   "cell_type": "markdown",
   "metadata": {},
   "source": [
    "# Cluster Analysis"
   ]
  },
  {
   "cell_type": "code",
   "execution_count": 456,
   "metadata": {},
   "outputs": [],
   "source": [
    "# import k-means from clustering stage\n",
    "from sklearn.cluster import KMeans"
   ]
  },
  {
   "cell_type": "code",
   "execution_count": 550,
   "metadata": {},
   "outputs": [
    {
     "data": {
      "text/plain": [
       "array([3, 3, 3, 3, 3, 3, 3, 3, 3, 3])"
      ]
     },
     "execution_count": 550,
     "metadata": {},
     "output_type": "execute_result"
    }
   ],
   "source": [
    "# set number of clusters\n",
    "kclusters = 5\n",
    "\n",
    "toronto_grouped_clustering = final_df[['total_foot_traffic']]\n",
    "\n",
    "# run k-means clustering\n",
    "kmeans = KMeans(n_clusters=kclusters, random_state=0).fit(toronto_grouped_clustering)\n",
    "\n",
    "# check cluster labels generated for each row in the dataframe\n",
    "kmeans.labels_[0:10] "
   ]
  },
  {
   "cell_type": "code",
   "execution_count": 551,
   "metadata": {},
   "outputs": [],
   "source": [
    "# add clustering labels\n",
    "final_df.insert(0, 'Cluster Labels', kmeans.labels_)\n"
   ]
  },
  {
   "cell_type": "code",
   "execution_count": 591,
   "metadata": {},
   "outputs": [],
   "source": [
    "summary_table= final_df.groupby('Cluster Labels').mean()\n",
    "summary_table.sort_values('total_foot_traffic')\n",
    "summary_table['legend']=['red','orange','white','blue','green']"
   ]
  },
  {
   "cell_type": "code",
   "execution_count": 599,
   "metadata": {},
   "outputs": [],
   "source": [
    "summary_table.drop(['Latitude','Longitude'],inplace=True,axis=1)"
   ]
  },
  {
   "cell_type": "code",
   "execution_count": 609,
   "metadata": {},
   "outputs": [
    {
     "data": {
      "text/html": [
       "<div>\n",
       "<style scoped>\n",
       "    .dataframe tbody tr th:only-of-type {\n",
       "        vertical-align: middle;\n",
       "    }\n",
       "\n",
       "    .dataframe tbody tr th {\n",
       "        vertical-align: top;\n",
       "    }\n",
       "\n",
       "    .dataframe thead th {\n",
       "        text-align: right;\n",
       "    }\n",
       "</style>\n",
       "<table border=\"1\" class=\"dataframe\">\n",
       "  <thead>\n",
       "    <tr style=\"text-align: right;\">\n",
       "      <th></th>\n",
       "      <th>pop</th>\n",
       "      <th>Venue_count</th>\n",
       "      <th>Other_coffee_shops</th>\n",
       "      <th>pop_foot_traffic</th>\n",
       "      <th>venu_foot_traffic</th>\n",
       "      <th>total_foot_traffic</th>\n",
       "      <th>legend</th>\n",
       "    </tr>\n",
       "    <tr>\n",
       "      <th>Cluster Labels</th>\n",
       "      <th></th>\n",
       "      <th></th>\n",
       "      <th></th>\n",
       "      <th></th>\n",
       "      <th></th>\n",
       "      <th></th>\n",
       "      <th></th>\n",
       "    </tr>\n",
       "  </thead>\n",
       "  <tbody>\n",
       "    <tr>\n",
       "      <th>0</th>\n",
       "      <td>28129</td>\n",
       "      <td>109</td>\n",
       "      <td>2.562500</td>\n",
       "      <td>79</td>\n",
       "      <td>77</td>\n",
       "      <td>156</td>\n",
       "      <td>red</td>\n",
       "    </tr>\n",
       "    <tr>\n",
       "      <th>1</th>\n",
       "      <td>41278</td>\n",
       "      <td>104</td>\n",
       "      <td>0.777778</td>\n",
       "      <td>233</td>\n",
       "      <td>158</td>\n",
       "      <td>392</td>\n",
       "      <td>orange</td>\n",
       "    </tr>\n",
       "    <tr>\n",
       "      <th>2</th>\n",
       "      <td>33883</td>\n",
       "      <td>121</td>\n",
       "      <td>0.000000</td>\n",
       "      <td>338</td>\n",
       "      <td>308</td>\n",
       "      <td>647</td>\n",
       "      <td>white</td>\n",
       "    </tr>\n",
       "    <tr>\n",
       "      <th>3</th>\n",
       "      <td>22121</td>\n",
       "      <td>117</td>\n",
       "      <td>4.764706</td>\n",
       "      <td>37</td>\n",
       "      <td>54</td>\n",
       "      <td>91</td>\n",
       "      <td>blue</td>\n",
       "    </tr>\n",
       "    <tr>\n",
       "      <th>4</th>\n",
       "      <td>33704</td>\n",
       "      <td>107</td>\n",
       "      <td>1.500000</td>\n",
       "      <td>132</td>\n",
       "      <td>111</td>\n",
       "      <td>243</td>\n",
       "      <td>green</td>\n",
       "    </tr>\n",
       "  </tbody>\n",
       "</table>\n",
       "</div>"
      ],
      "text/plain": [
       "                  pop  Venue_count  Other_coffee_shops  pop_foot_traffic  \\\n",
       "Cluster Labels                                                             \n",
       "0               28129          109            2.562500                79   \n",
       "1               41278          104            0.777778               233   \n",
       "2               33883          121            0.000000               338   \n",
       "3               22121          117            4.764706                37   \n",
       "4               33704          107            1.500000               132   \n",
       "\n",
       "                venu_foot_traffic  total_foot_traffic  legend  \n",
       "Cluster Labels                                                 \n",
       "0                              77                 156     red  \n",
       "1                             158                 392  orange  \n",
       "2                             308                 647   white  \n",
       "3                              54                  91    blue  \n",
       "4                             111                 243   green  "
      ]
     },
     "execution_count": 609,
     "metadata": {},
     "output_type": "execute_result"
    }
   ],
   "source": [
    "#formatting our summary table\n",
    "summary_table['pop']=summary_table['pop'].astype(int)\n",
    "summary_table['Venue_count']=summary_table['Venue_count'].astype(int)\n",
    "summary_table['pop_foot_traffic']=summary_table['pop_foot_traffic'].astype(int)\n",
    "summary_table['venu_foot_traffic']=summary_table['venu_foot_traffic'].astype(int)\n",
    "summary_table['total_foot_traffic']=summary_table['total_foot_traffic'].astype(int)\n",
    "summary_table"
   ]
  },
  {
   "cell_type": "code",
   "execution_count": 612,
   "metadata": {},
   "outputs": [
    {
     "data": {
      "text/html": [
       "<div>\n",
       "<style scoped>\n",
       "    .dataframe tbody tr th:only-of-type {\n",
       "        vertical-align: middle;\n",
       "    }\n",
       "\n",
       "    .dataframe tbody tr th {\n",
       "        vertical-align: top;\n",
       "    }\n",
       "\n",
       "    .dataframe thead th {\n",
       "        text-align: right;\n",
       "    }\n",
       "</style>\n",
       "<table border=\"1\" class=\"dataframe\">\n",
       "  <thead>\n",
       "    <tr style=\"text-align: right;\">\n",
       "      <th></th>\n",
       "      <th>Postcode</th>\n",
       "      <th>Borough</th>\n",
       "      <th>Neighborhood</th>\n",
       "      <th>State</th>\n",
       "      <th>pop</th>\n",
       "      <th>Latitude</th>\n",
       "      <th>Longitude</th>\n",
       "      <th>Venue_count</th>\n",
       "      <th>Other_coffee_shops</th>\n",
       "      <th>pop_foot_traffic</th>\n",
       "      <th>venu_foot_traffic</th>\n",
       "      <th>total_foot_traffic</th>\n",
       "    </tr>\n",
       "    <tr>\n",
       "      <th>Cluster Labels</th>\n",
       "      <th></th>\n",
       "      <th></th>\n",
       "      <th></th>\n",
       "      <th></th>\n",
       "      <th></th>\n",
       "      <th></th>\n",
       "      <th></th>\n",
       "      <th></th>\n",
       "      <th></th>\n",
       "      <th></th>\n",
       "      <th></th>\n",
       "      <th></th>\n",
       "    </tr>\n",
       "  </thead>\n",
       "  <tbody>\n",
       "    <tr>\n",
       "      <th>0</th>\n",
       "      <td>32</td>\n",
       "      <td>32</td>\n",
       "      <td>32</td>\n",
       "      <td>32</td>\n",
       "      <td>32</td>\n",
       "      <td>32</td>\n",
       "      <td>32</td>\n",
       "      <td>32</td>\n",
       "      <td>32</td>\n",
       "      <td>32</td>\n",
       "      <td>32</td>\n",
       "      <td>32</td>\n",
       "    </tr>\n",
       "    <tr>\n",
       "      <th>1</th>\n",
       "      <td>9</td>\n",
       "      <td>9</td>\n",
       "      <td>9</td>\n",
       "      <td>9</td>\n",
       "      <td>9</td>\n",
       "      <td>9</td>\n",
       "      <td>9</td>\n",
       "      <td>9</td>\n",
       "      <td>9</td>\n",
       "      <td>9</td>\n",
       "      <td>9</td>\n",
       "      <td>9</td>\n",
       "    </tr>\n",
       "    <tr>\n",
       "      <th>2</th>\n",
       "      <td>3</td>\n",
       "      <td>3</td>\n",
       "      <td>3</td>\n",
       "      <td>3</td>\n",
       "      <td>3</td>\n",
       "      <td>3</td>\n",
       "      <td>3</td>\n",
       "      <td>3</td>\n",
       "      <td>3</td>\n",
       "      <td>3</td>\n",
       "      <td>3</td>\n",
       "      <td>3</td>\n",
       "    </tr>\n",
       "    <tr>\n",
       "      <th>3</th>\n",
       "      <td>34</td>\n",
       "      <td>34</td>\n",
       "      <td>34</td>\n",
       "      <td>34</td>\n",
       "      <td>34</td>\n",
       "      <td>34</td>\n",
       "      <td>34</td>\n",
       "      <td>34</td>\n",
       "      <td>34</td>\n",
       "      <td>34</td>\n",
       "      <td>34</td>\n",
       "      <td>34</td>\n",
       "    </tr>\n",
       "    <tr>\n",
       "      <th>4</th>\n",
       "      <td>18</td>\n",
       "      <td>18</td>\n",
       "      <td>18</td>\n",
       "      <td>18</td>\n",
       "      <td>18</td>\n",
       "      <td>18</td>\n",
       "      <td>18</td>\n",
       "      <td>18</td>\n",
       "      <td>18</td>\n",
       "      <td>18</td>\n",
       "      <td>18</td>\n",
       "      <td>18</td>\n",
       "    </tr>\n",
       "  </tbody>\n",
       "</table>\n",
       "</div>"
      ],
      "text/plain": [
       "                Postcode  Borough  Neighborhood  State  pop  Latitude  \\\n",
       "Cluster Labels                                                          \n",
       "0                     32       32            32     32   32        32   \n",
       "1                      9        9             9      9    9         9   \n",
       "2                      3        3             3      3    3         3   \n",
       "3                     34       34            34     34   34        34   \n",
       "4                     18       18            18     18   18        18   \n",
       "\n",
       "                Longitude  Venue_count  Other_coffee_shops  pop_foot_traffic  \\\n",
       "Cluster Labels                                                                 \n",
       "0                      32           32                  32                32   \n",
       "1                       9            9                   9                 9   \n",
       "2                       3            3                   3                 3   \n",
       "3                      34           34                  34                34   \n",
       "4                      18           18                  18                18   \n",
       "\n",
       "                venu_foot_traffic  total_foot_traffic  \n",
       "Cluster Labels                                         \n",
       "0                              32                  32  \n",
       "1                               9                   9  \n",
       "2                               3                   3  \n",
       "3                              34                  34  \n",
       "4                              18                  18  "
      ]
     },
     "execution_count": 612,
     "metadata": {},
     "output_type": "execute_result"
    }
   ],
   "source": [
    "final_df.groupby('Cluster Labels').count()"
   ]
  },
  {
   "cell_type": "markdown",
   "metadata": {},
   "source": [
    "# Mapping our Clusters"
   ]
  },
  {
   "cell_type": "code",
   "execution_count": 573,
   "metadata": {},
   "outputs": [],
   "source": [
    "# Matplotlib and associated plotting modules\n",
    "import matplotlib.cm as cm\n",
    "import matplotlib.colors as colors\n"
   ]
  },
  {
   "cell_type": "code",
   "execution_count": 574,
   "metadata": {},
   "outputs": [
    {
     "name": "stdout",
     "output_type": "stream",
     "text": [
      "The geograpical coordinate of Toronto are 43.6534817, -79.3839347.\n"
     ]
    }
   ],
   "source": [
    "import folium # map rendering library\n",
    "from geopy.geocoders import Nominatim # convert an address into latitude and longitude values\n",
    "\n",
    "#placement of initial map\n",
    "address = 'Toronto, On'\n",
    "geolocator = Nominatim(user_agent=\"toronto_explorer\")\n",
    "location = geolocator.geocode(address)\n",
    "latitude = location.latitude\n",
    "longitude = location.longitude\n",
    "print('The geograpical coordinate of Toronto are {}, {}.'.format(latitude, longitude))\n",
    "\n"
   ]
  },
  {
   "cell_type": "code",
   "execution_count": 587,
   "metadata": {},
   "outputs": [
    {
     "data": {
      "text/html": [
       "<div style=\"width:100%;\"><div style=\"position:relative;width:100%;height:0;padding-bottom:60%;\"><span style=\"color:#565656\">Make this Notebook Trusted to load map: File -> Trust Notebook</span><iframe src=\"about:blank\" style=\"position:absolute;width:100%;height:100%;left:0;top:0;border:none !important;\" data-html=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 onload=\"this.contentDocument.open();this.contentDocument.write(atob(this.getAttribute('data-html')));this.contentDocument.close();\" allowfullscreen webkitallowfullscreen mozallowfullscreen></iframe></div></div>"
      ],
      "text/plain": [
       "<folium.folium.Map at 0x14ae618d648>"
      ]
     },
     "execution_count": 587,
     "metadata": {},
     "output_type": "execute_result"
    }
   ],
   "source": [
    "# create map\n",
    "map_clusters = folium.Map(location=[latitude, longitude], zoom_start=11)\n",
    "\n",
    " \n",
    "              \n",
    "# Function to change the marker color  \n",
    "# set color scheme for the clusters\n",
    "def color(cluster): \n",
    "    if cluster ==3: \n",
    "        col = 'red'\n",
    "    elif cluster ==0: \n",
    "        col = 'orange'\n",
    "    elif cluster ==4: \n",
    "        col = 'white'\n",
    "    elif cluster ==1: \n",
    "        col = 'blue'     \n",
    "    else: \n",
    "        col='green'\n",
    "    return col \n",
    " \n",
    "\n",
    "\n",
    "\n",
    "# add markers to the map\n",
    "markers_colors = []\n",
    "for lat, lon, poi, cluster in zip(final_df['Latitude'], final_df['Longitude'], final_df['Neighborhood'], final_df['Cluster Labels']):\n",
    "    label = folium.Popup(str(poi) + ' Cluster ' + str(cluster), parse_html=True)\n",
    "    folium.CircleMarker(\n",
    "        [lat, lon],\n",
    "        radius=5,\n",
    "        popup=label,\n",
    "        color=color(cluster),\n",
    "        fill=True,\n",
    "        fill_color=color(cluster),\n",
    "        fill_opacity=0.7\n",
    "        ).add_to(map_clusters)\n",
    "    \n",
    "legend_name='Cluster'      \n",
    "\n",
    "map_clusters\n"
   ]
  },
  {
   "cell_type": "code",
   "execution_count": null,
   "metadata": {},
   "outputs": [],
   "source": []
  }
 ],
 "metadata": {
  "kernelspec": {
   "display_name": "Python 3",
   "language": "python",
   "name": "python3"
  },
  "language_info": {
   "codemirror_mode": {
    "name": "ipython",
    "version": 3
   },
   "file_extension": ".py",
   "mimetype": "text/x-python",
   "name": "python",
   "nbconvert_exporter": "python",
   "pygments_lexer": "ipython3",
   "version": "3.7.6"
  }
 },
 "nbformat": 4,
 "nbformat_minor": 4
}
